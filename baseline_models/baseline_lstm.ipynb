{
  "nbformat": 4,
  "nbformat_minor": 0,
  "metadata": {
    "colab": {
      "provenance": [],
      "machine_shape": "hm"
    },
    "kernelspec": {
      "name": "python3",
      "display_name": "Python 3"
    },
    "language_info": {
      "name": "python"
    },
    "accelerator": "GPU",
    "gpuClass": "standard"
  },
  "cells": [
    {
      "cell_type": "code",
      "execution_count": 1,
      "metadata": {
        "colab": {
          "base_uri": "https://localhost:8080/"
        },
        "id": "V54iZ_VRWfcA",
        "outputId": "5d521f59-5788-408f-ada2-801f770fae55"
      },
      "outputs": [
        {
          "output_type": "stream",
          "name": "stdout",
          "text": [
            "Mounted at /content/drive\n"
          ]
        }
      ],
      "source": [
        "from google.colab import drive\n",
        "drive.mount('/content/drive')"
      ]
    },
    {
      "cell_type": "code",
      "source": [
        "import tensorflow as tf\n",
        "import numpy as np\n",
        "import matplotlib.pyplot as plt\n",
        "plt.style.use('default')\n",
        "from sklearn.preprocessing import LabelBinarizer\n",
        "%matplotlib inline\n",
        "import pickle\n",
        "import pandas as pd\n",
        "import warnings\n",
        "warnings.filterwarnings(\"ignore\")\n",
        "import tensorflow_datasets as tfds"
      ],
      "metadata": {
        "id": "_zUvy4xfXpSR"
      },
      "execution_count": 2,
      "outputs": []
    },
    {
      "cell_type": "code",
      "source": [
        "# path='/content/drive/MyDrive/Indiana Coursework/DLS/DLS Project/paris_mobility.txt'"
      ],
      "metadata": {
        "id": "WG7UrPwZXuQ6"
      },
      "execution_count": null,
      "outputs": []
    },
    {
      "cell_type": "code",
      "source": [
        "ls '/content/drive/MyDrive/DLS_project/datasets'"
      ],
      "metadata": {
        "colab": {
          "base_uri": "https://localhost:8080/"
        },
        "id": "N8mOq6_jPBNK",
        "outputId": "9ac069af-cb39-4d69-da8e-dca973eaef68"
      },
      "execution_count": 3,
      "outputs": [
        {
          "output_type": "stream",
          "name": "stdout",
          "text": [
            "chicken_pox.csv  paris_mobility.txt  windmill_medium.csv\n",
            "energy_data.csv  windmill.csv\n"
          ]
        }
      ]
    },
    {
      "cell_type": "code",
      "source": [
        "path='/content/drive/MyDrive/DLS_project/datasets/paris_mobility.txt'"
      ],
      "metadata": {
        "id": "AXjC2uxOiMXl"
      },
      "execution_count": 4,
      "outputs": []
    },
    {
      "cell_type": "code",
      "source": [
        "data =  pd.read_csv(path,header=None)"
      ],
      "metadata": {
        "id": "Q2FRXT8gZend"
      },
      "execution_count": 5,
      "outputs": []
    },
    {
      "cell_type": "code",
      "source": [
        "data = np.array(data)\n",
        "data.shape"
      ],
      "metadata": {
        "colab": {
          "base_uri": "https://localhost:8080/"
        },
        "id": "B7NhFphxZuze",
        "outputId": "7cfc72dd-d3f2-4f8f-8ddb-0c4e38720571"
      },
      "execution_count": 6,
      "outputs": [
        {
          "output_type": "execute_result",
          "data": {
            "text/plain": [
              "(3456, 6)"
            ]
          },
          "metadata": {},
          "execution_count": 6
        }
      ]
    },
    {
      "cell_type": "code",
      "source": [
        "x_train = data[0:2800,:]\n",
        "x_test = data[2800:,:]"
      ],
      "metadata": {
        "id": "DdnBNZu2Zyw6"
      },
      "execution_count": 7,
      "outputs": []
    },
    {
      "cell_type": "code",
      "source": [
        "x_train.shape, x_test.shape"
      ],
      "metadata": {
        "colab": {
          "base_uri": "https://localhost:8080/"
        },
        "id": "AkFynJ1jaWdh",
        "outputId": "556dfd87-bf9c-47f6-b337-408d386c7a3e"
      },
      "execution_count": 8,
      "outputs": [
        {
          "output_type": "execute_result",
          "data": {
            "text/plain": [
              "((2800, 6), (656, 6))"
            ]
          },
          "metadata": {},
          "execution_count": 8
        }
      ]
    },
    {
      "cell_type": "code",
      "source": [
        "import numpy as np\n",
        "import logging\n",
        "\n",
        "log = logging.getLogger('LSTM')\n",
        "\n",
        "class DataUtil(object):\n",
        "    #\n",
        "    # This class contains data specific information.\n",
        "    # It does the following:\n",
        "    #  - Read data from file\n",
        "    #  - Normalise it\n",
        "    #  - Split it into train, dev (validation) and test\n",
        "    #  - Create X and Y for each of the 3 sets (train, dev, test) according to the following:\n",
        "    #    Every sample (x, y) shall be created as follows:\n",
        "    #     - x --> window number of values\n",
        "    #     - y --> one value that is at horizon in the future i.e. that is horizon away past the last value of x\n",
        "    #    This way X and Y will have the following dimensions:\n",
        "    #     - X [number of samples, window, number of multivariate time series]\n",
        "    #     - Y [number of samples, number of multivariate time series]\n",
        "    \n",
        "    def __init__(self, filename, train=0.6, valid=0.2, horizon = 12, window = 24*7, normalise = 2):\n",
        "        try:\n",
        "            fin = open(filename)\n",
        "\n",
        "           \n",
        "            self.rawdata   = np.loadtxt(fin, delimiter=',')\n",
        "           \n",
        "            self.w         = window\n",
        "            self.h         = horizon\n",
        "            self.data      = np.zeros(self.rawdata.shape)\n",
        "            self.n, self.m = self.data.shape\n",
        "            self.normalise = normalise\n",
        "            self.scale     = np.ones(self.m)\n",
        "        \n",
        "            self.normalise_data(normalise)\n",
        "            self.split_data(train, valid)\n",
        "        except IOError as err:\n",
        "            # In case file is not found, all of the above attributes will not have been created\n",
        "            # Hence, in order to check if this call was successful, you can call hasattr on this object \n",
        "            # to check if it has attribute 'data' for example\n",
        "            log.error(\"Error opening data file ... %s\", err)\n",
        "        \n",
        "        \n",
        "    def normalise_data(self, normalise):\n",
        "        log.debug(\"Normalise: %d\", normalise)\n",
        "\n",
        "        if normalise == 0: # do not normalise\n",
        "            self.data = self.rawdata\n",
        "        \n",
        "        if normalise == 1: # same normalisation for all timeseries\n",
        "            self.data = self.rawdata / np.max(self.rawdata)\n",
        "        \n",
        "        if normalise == 2: # normalise each timeseries alone. This is the default mode\n",
        "            for i in range(self.m):\n",
        "                self.scale[i] = np.max(np.abs(self.rawdata[:, i]))\n",
        "                self.data[:, i] = self.rawdata[:, i] / self.scale[i]\n",
        "\n",
        "    def split_data(self, train, valid):\n",
        "        print(\"Splitting data into training set {}, validation set {} and testing set {}\".format(train, valid, 1 - (train + valid)))\n",
        "\n",
        "        train_set = range(self.w + self.h - 1, int(train * self.n))\n",
        "        valid_set = range(int(train * self.n), int((train + valid) * self.n))\n",
        "        test_set  = range(int((train + valid) * self.n), self.n)\n",
        "        \n",
        "        self.train = self.get_data(train_set)\n",
        "        self.valid = self.get_data(valid_set)\n",
        "        self.test  = self.get_data(test_set)\n",
        "        \n",
        "    def get_data(self, rng):\n",
        "        n = len(rng)\n",
        "        \n",
        "        X = np.zeros((n, self.w, self.m))\n",
        "        Y = np.zeros((n, self.w, self.m))\n",
        "        \n",
        "        for i in range(n):\n",
        "            end   = rng[i] - self.h + 1\n",
        "            start = end - self.w\n",
        "            \n",
        "            X[i,:,:] = self.data[start:end, :]\n",
        "            Y[i,:,:]   = self.data[start+1:end+1,:]\n",
        "        \n",
        "        return [X, Y]"
      ],
      "metadata": {
        "id": "CjVqFGeqaY1O"
      },
      "execution_count": 9,
      "outputs": []
    },
    {
      "cell_type": "code",
      "source": [
        "w = 24\n",
        "h = 12\n",
        "m = 6\n",
        "n= data.shape[0]\n",
        "train = 0.6\n",
        "\n",
        "rng = range(w + h - 1, int(train * n))\n",
        "n = len(rng)\n",
        "        \n",
        "X = np.zeros((n, w, m))\n",
        "Y = np.zeros((n, m))\n",
        "        \n",
        "for i in range(10):\n",
        "  end   = rng[i] - h + 1\n",
        "  start = end - w\n",
        "  print(start, end)"
      ],
      "metadata": {
        "id": "fdzYq_O_jx13",
        "colab": {
          "base_uri": "https://localhost:8080/"
        },
        "outputId": "94774c09-3716-479b-cddc-ab30c810e2b4"
      },
      "execution_count": 10,
      "outputs": [
        {
          "output_type": "stream",
          "name": "stdout",
          "text": [
            "0 24\n",
            "1 25\n",
            "2 26\n",
            "3 27\n",
            "4 28\n",
            "5 29\n",
            "6 30\n",
            "7 31\n",
            "8 32\n",
            "9 33\n"
          ]
        }
      ]
    },
    {
      "cell_type": "code",
      "source": [
        "window = 24*7"
      ],
      "metadata": {
        "id": "-t4wgepriaUZ"
      },
      "execution_count": 11,
      "outputs": []
    },
    {
      "cell_type": "code",
      "source": [
        "Data = DataUtil(path, window = window)"
      ],
      "metadata": {
        "colab": {
          "base_uri": "https://localhost:8080/"
        },
        "id": "XEmReYOlbMdJ",
        "outputId": "7ad6b4a3-0d72-4d16-fe65-d9b0b9150d6a"
      },
      "execution_count": 12,
      "outputs": [
        {
          "output_type": "stream",
          "name": "stdout",
          "text": [
            "Splitting data into training set 0.6, validation set 0.2 and testing set 0.19999999999999996\n"
          ]
        }
      ]
    },
    {
      "cell_type": "code",
      "source": [
        "Data.train[0].shape, Data.train[1].shape"
      ],
      "metadata": {
        "colab": {
          "base_uri": "https://localhost:8080/"
        },
        "id": "TbgHdI1LcH_H",
        "outputId": "4d819f18-6071-49b8-bf87-7da21fd75653"
      },
      "execution_count": 13,
      "outputs": [
        {
          "output_type": "execute_result",
          "data": {
            "text/plain": [
              "((1894, 168, 6), (1894, 168, 6))"
            ]
          },
          "metadata": {},
          "execution_count": 13
        }
      ]
    },
    {
      "cell_type": "code",
      "source": [
        "baseline = tf.keras.Sequential([\n",
        "                             tf.keras.layers.Input(shape=(window, 6)),\n",
        "                             tf.keras.layers.LSTM(64, return_sequences=True),\n",
        "                             tf.keras.layers.BatchNormalization(),\n",
        "                             tf.keras.layers.Dropout(0.2),\n",
        "                             tf.keras.layers.LSTM(128, return_sequences=True),\n",
        "                             tf.keras.layers.BatchNormalization(),\n",
        "                             tf.keras.layers.Dropout(0.2),\n",
        "                             tf.keras.layers.LSTM(64, return_sequences=True),\n",
        "                             tf.keras.layers.BatchNormalization(),\n",
        "                             tf.keras.layers.Dropout(0.2),\n",
        "                             tf.keras.layers.Dense(6)\n",
        "])\n",
        "baseline.summary()"
      ],
      "metadata": {
        "colab": {
          "base_uri": "https://localhost:8080/"
        },
        "id": "eAAbsS-ReBDg",
        "outputId": "f815fe0c-3f72-447b-ffe6-21d014208aed"
      },
      "execution_count": 14,
      "outputs": [
        {
          "output_type": "stream",
          "name": "stdout",
          "text": [
            "Model: \"sequential\"\n",
            "_________________________________________________________________\n",
            " Layer (type)                Output Shape              Param #   \n",
            "=================================================================\n",
            " lstm (LSTM)                 (None, 168, 64)           18176     \n",
            "                                                                 \n",
            " batch_normalization (BatchN  (None, 168, 64)          256       \n",
            " ormalization)                                                   \n",
            "                                                                 \n",
            " dropout (Dropout)           (None, 168, 64)           0         \n",
            "                                                                 \n",
            " lstm_1 (LSTM)               (None, 168, 128)          98816     \n",
            "                                                                 \n",
            " batch_normalization_1 (Batc  (None, 168, 128)         512       \n",
            " hNormalization)                                                 \n",
            "                                                                 \n",
            " dropout_1 (Dropout)         (None, 168, 128)          0         \n",
            "                                                                 \n",
            " lstm_2 (LSTM)               (None, 168, 64)           49408     \n",
            "                                                                 \n",
            " batch_normalization_2 (Batc  (None, 168, 64)          256       \n",
            " hNormalization)                                                 \n",
            "                                                                 \n",
            " dropout_2 (Dropout)         (None, 168, 64)           0         \n",
            "                                                                 \n",
            " dense (Dense)               (None, 168, 6)            390       \n",
            "                                                                 \n",
            "=================================================================\n",
            "Total params: 167,814\n",
            "Trainable params: 167,302\n",
            "Non-trainable params: 512\n",
            "_________________________________________________________________\n"
          ]
        }
      ]
    },
    {
      "cell_type": "code",
      "source": [
        "def rse(y_true, y_pred):\n",
        "    #\n",
        "    # The formula is:\n",
        "    #           K.sqrt(K.sum(K.square(y_true - y_pred)))     \n",
        "    #    RSE = -----------------------------------------------\n",
        "    #           K.sqrt(K.sum(K.square(y_true_mean - y_true)))       \n",
        "    #\n",
        "    #           K.sqrt(K.sum(K.square(y_true - y_pred))/(N-1))\n",
        "    #        = ----------------------------------------------------\n",
        "    #           K.sqrt(K.sum(K.square(y_true_mean - y_true)/(N-1)))\n",
        "    #\n",
        "    #\n",
        "    #           K.sqrt(K.mean(K.square(y_true - y_pred)))\n",
        "    #        = ------------------------------------------\n",
        "    #           K.std(y_true)\n",
        "    #\n",
        "    num = tf.keras.backend.sqrt(tf.keras.backend.mean(tf.keras.backend.square(y_true - y_pred), axis=None))\n",
        "    den = tf.keras.backend.std(y_true, axis=None)\n",
        "    \n",
        "    return num / den\n",
        "\n",
        "\n",
        "def corr(y_true, y_pred):\n",
        "    #\n",
        "    # This function calculates the correlation between the true and the predicted outputs\n",
        "    #\n",
        "    num1 = y_true - tf.keras.backend.mean(y_true, axis=0)\n",
        "    num2 = y_pred - tf.keras.backend.mean(y_pred, axis=0)\n",
        "    \n",
        "    num  = tf.keras.backend.mean(num1 * num2, axis=0)\n",
        "    den  = tf.keras.backend.std(y_true, axis=0) * tf.keras.backend.std(y_pred, axis=0)\n",
        "    \n",
        "    return tf.keras.backend.mean(num / den)"
      ],
      "metadata": {
        "id": "tu-aBVmwubv9"
      },
      "execution_count": 15,
      "outputs": []
    },
    {
      "cell_type": "code",
      "source": [
        "baseline.compile(loss = 'mae',\n",
        "              optimizer = 'adam', metrics = [rse, corr])"
      ],
      "metadata": {
        "id": "E6yenWvxufyj"
      },
      "execution_count": 16,
      "outputs": []
    },
    {
      "cell_type": "code",
      "source": [
        "callback = tf.keras.callbacks.EarlyStopping(monitor='val_loss', mode='min', patience=10)"
      ],
      "metadata": {
        "id": "vEU3mNRDfu9y"
      },
      "execution_count": 17,
      "outputs": []
    },
    {
      "cell_type": "code",
      "source": [
        "baseline.fit(Data.train[0],Data.train[1], validation_data = (Data.valid[0],Data.valid[1]), epochs = 200, batch_size=16)"
      ],
      "metadata": {
        "colab": {
          "base_uri": "https://localhost:8080/"
        },
        "id": "ygaRp1G-fijr",
        "outputId": "e9f2b44c-e6bb-4670-8331-2f8beec5626e"
      },
      "execution_count": 18,
      "outputs": [
        {
          "output_type": "stream",
          "name": "stdout",
          "text": [
            "Epoch 1/200\n",
            "119/119 [==============================] - 14s 37ms/step - loss: 0.5384 - rse: 3.8050 - corr: 0.2002 - val_loss: 0.1751 - val_rse: 1.0968 - val_corr: 0.0302\n",
            "Epoch 2/200\n",
            "119/119 [==============================] - 3s 28ms/step - loss: 0.2181 - rse: 1.9011 - corr: 0.3863 - val_loss: 0.1387 - val_rse: 0.8859 - val_corr: 0.6199\n",
            "Epoch 3/200\n",
            "119/119 [==============================] - 3s 28ms/step - loss: 0.1100 - rse: 1.1278 - corr: 0.6065 - val_loss: 0.1263 - val_rse: 0.8127 - val_corr: 0.6338\n",
            "Epoch 4/200\n",
            "119/119 [==============================] - 3s 27ms/step - loss: 0.0790 - rse: 0.7790 - corr: 0.7359 - val_loss: 0.1108 - val_rse: 0.7139 - val_corr: 0.7147\n",
            "Epoch 5/200\n",
            "119/119 [==============================] - 3s 27ms/step - loss: 0.0623 - rse: 0.6050 - corr: 0.8188 - val_loss: 0.0959 - val_rse: 0.6268 - val_corr: 0.7397\n",
            "Epoch 6/200\n",
            "119/119 [==============================] - 3s 28ms/step - loss: 0.0544 - rse: 0.4646 - corr: 0.8672 - val_loss: 0.0761 - val_rse: 0.5205 - val_corr: 0.7607\n",
            "Epoch 7/200\n",
            "119/119 [==============================] - 3s 28ms/step - loss: 0.0470 - rse: 0.3459 - corr: 0.9060 - val_loss: 0.0658 - val_rse: 0.4503 - val_corr: 0.7767\n",
            "Epoch 8/200\n",
            "119/119 [==============================] - 3s 27ms/step - loss: 0.0452 - rse: 0.3335 - corr: 0.9135 - val_loss: 0.0480 - val_rse: 0.3422 - val_corr: 0.7830\n",
            "Epoch 9/200\n",
            "119/119 [==============================] - 4s 37ms/step - loss: 0.0439 - rse: 0.3251 - corr: 0.9176 - val_loss: 0.0600 - val_rse: 0.4028 - val_corr: 0.7839\n",
            "Epoch 10/200\n",
            "119/119 [==============================] - 3s 28ms/step - loss: 0.0429 - rse: 0.3180 - corr: 0.9229 - val_loss: 0.0451 - val_rse: 0.3255 - val_corr: 0.7852\n",
            "Epoch 11/200\n",
            "119/119 [==============================] - 3s 27ms/step - loss: 0.0421 - rse: 0.3130 - corr: 0.9260 - val_loss: 0.0468 - val_rse: 0.3369 - val_corr: 0.7854\n",
            "Epoch 12/200\n",
            "119/119 [==============================] - 3s 28ms/step - loss: 0.0413 - rse: 0.3081 - corr: 0.9282 - val_loss: 0.0413 - val_rse: 0.3106 - val_corr: 0.7843\n",
            "Epoch 13/200\n",
            "119/119 [==============================] - 3s 27ms/step - loss: 0.0407 - rse: 0.3036 - corr: 0.9303 - val_loss: 0.0403 - val_rse: 0.3021 - val_corr: 0.7910\n",
            "Epoch 14/200\n",
            "119/119 [==============================] - 4s 30ms/step - loss: 0.0399 - rse: 0.2992 - corr: 0.9333 - val_loss: 0.0441 - val_rse: 0.3221 - val_corr: 0.7895\n",
            "Epoch 15/200\n",
            "119/119 [==============================] - 3s 28ms/step - loss: 0.0396 - rse: 0.2969 - corr: 0.9361 - val_loss: 0.0418 - val_rse: 0.3160 - val_corr: 0.7848\n",
            "Epoch 16/200\n",
            "119/119 [==============================] - 3s 27ms/step - loss: 0.0388 - rse: 0.2918 - corr: 0.9372 - val_loss: 0.0413 - val_rse: 0.3089 - val_corr: 0.7881\n",
            "Epoch 17/200\n",
            "119/119 [==============================] - 4s 30ms/step - loss: 0.0384 - rse: 0.2890 - corr: 0.9384 - val_loss: 0.0412 - val_rse: 0.3084 - val_corr: 0.7866\n",
            "Epoch 18/200\n",
            "119/119 [==============================] - 4s 37ms/step - loss: 0.0374 - rse: 0.2832 - corr: 0.9412 - val_loss: 0.0426 - val_rse: 0.3165 - val_corr: 0.7929\n",
            "Epoch 19/200\n",
            "119/119 [==============================] - 4s 31ms/step - loss: 0.0373 - rse: 0.2816 - corr: 0.9423 - val_loss: 0.0411 - val_rse: 0.3070 - val_corr: 0.7898\n",
            "Epoch 20/200\n",
            "119/119 [==============================] - 3s 28ms/step - loss: 0.0367 - rse: 0.2771 - corr: 0.9437 - val_loss: 0.0441 - val_rse: 0.3263 - val_corr: 0.7925\n",
            "Epoch 21/200\n",
            "119/119 [==============================] - 3s 27ms/step - loss: 0.0367 - rse: 0.2771 - corr: 0.9445 - val_loss: 0.0418 - val_rse: 0.3075 - val_corr: 0.7939\n",
            "Epoch 22/200\n",
            "119/119 [==============================] - 3s 27ms/step - loss: 0.0364 - rse: 0.2742 - corr: 0.9465 - val_loss: 0.0448 - val_rse: 0.3302 - val_corr: 0.7901\n",
            "Epoch 23/200\n",
            "119/119 [==============================] - 3s 27ms/step - loss: 0.0356 - rse: 0.2687 - corr: 0.9489 - val_loss: 0.0435 - val_rse: 0.3235 - val_corr: 0.7859\n",
            "Epoch 24/200\n",
            "119/119 [==============================] - 3s 28ms/step - loss: 0.0350 - rse: 0.2645 - corr: 0.9498 - val_loss: 0.0432 - val_rse: 0.3258 - val_corr: 0.7829\n",
            "Epoch 25/200\n",
            "119/119 [==============================] - 4s 34ms/step - loss: 0.0344 - rse: 0.2609 - corr: 0.9503 - val_loss: 0.0444 - val_rse: 0.3320 - val_corr: 0.7885\n",
            "Epoch 26/200\n",
            "119/119 [==============================] - 4s 32ms/step - loss: 0.0341 - rse: 0.2583 - corr: 0.9515 - val_loss: 0.0501 - val_rse: 0.3750 - val_corr: 0.7536\n",
            "Epoch 27/200\n",
            "119/119 [==============================] - 3s 28ms/step - loss: 0.0336 - rse: 0.2548 - corr: 0.9529 - val_loss: 0.0435 - val_rse: 0.3283 - val_corr: 0.7866\n",
            "Epoch 28/200\n",
            "119/119 [==============================] - 3s 29ms/step - loss: 0.0339 - rse: 0.2560 - corr: 0.9533 - val_loss: 0.0440 - val_rse: 0.3317 - val_corr: 0.7834\n",
            "Epoch 29/200\n",
            "119/119 [==============================] - 3s 28ms/step - loss: 0.0334 - rse: 0.2526 - corr: 0.9549 - val_loss: 0.0451 - val_rse: 0.3392 - val_corr: 0.7660\n",
            "Epoch 30/200\n",
            "119/119 [==============================] - 3s 28ms/step - loss: 0.0323 - rse: 0.2457 - corr: 0.9567 - val_loss: 0.0485 - val_rse: 0.3545 - val_corr: 0.7639\n",
            "Epoch 31/200\n",
            "119/119 [==============================] - 3s 28ms/step - loss: 0.0322 - rse: 0.2442 - corr: 0.9567 - val_loss: 0.0465 - val_rse: 0.3487 - val_corr: 0.7773\n",
            "Epoch 32/200\n",
            "119/119 [==============================] - 3s 28ms/step - loss: 0.0318 - rse: 0.2416 - corr: 0.9584 - val_loss: 0.0495 - val_rse: 0.3715 - val_corr: 0.7379\n",
            "Epoch 33/200\n",
            "119/119 [==============================] - 3s 28ms/step - loss: 0.0316 - rse: 0.2398 - corr: 0.9594 - val_loss: 0.0502 - val_rse: 0.3802 - val_corr: 0.7527\n",
            "Epoch 34/200\n",
            "119/119 [==============================] - 3s 28ms/step - loss: 0.0311 - rse: 0.2361 - corr: 0.9601 - val_loss: 0.0438 - val_rse: 0.3329 - val_corr: 0.7854\n",
            "Epoch 35/200\n",
            "119/119 [==============================] - 3s 28ms/step - loss: 0.0307 - rse: 0.2336 - corr: 0.9609 - val_loss: 0.0488 - val_rse: 0.3650 - val_corr: 0.7642\n",
            "Epoch 36/200\n",
            "119/119 [==============================] - 3s 28ms/step - loss: 0.0307 - rse: 0.2331 - corr: 0.9622 - val_loss: 0.0527 - val_rse: 0.3896 - val_corr: 0.7408\n",
            "Epoch 37/200\n",
            "119/119 [==============================] - 5s 39ms/step - loss: 0.0304 - rse: 0.2305 - corr: 0.9626 - val_loss: 0.0499 - val_rse: 0.3714 - val_corr: 0.7678\n",
            "Epoch 38/200\n",
            "119/119 [==============================] - 3s 28ms/step - loss: 0.0303 - rse: 0.2305 - corr: 0.9634 - val_loss: 0.0521 - val_rse: 0.3826 - val_corr: 0.7690\n",
            "Epoch 39/200\n",
            "119/119 [==============================] - 3s 28ms/step - loss: 0.0297 - rse: 0.2251 - corr: 0.9638 - val_loss: 0.0542 - val_rse: 0.4075 - val_corr: 0.7330\n",
            "Epoch 40/200\n",
            "119/119 [==============================] - 3s 28ms/step - loss: 0.0294 - rse: 0.2232 - corr: 0.9652 - val_loss: 0.0502 - val_rse: 0.3743 - val_corr: 0.7659\n",
            "Epoch 41/200\n",
            "119/119 [==============================] - 3s 28ms/step - loss: 0.0292 - rse: 0.2216 - corr: 0.9658 - val_loss: 0.0497 - val_rse: 0.3653 - val_corr: 0.7751\n",
            "Epoch 42/200\n",
            "119/119 [==============================] - 3s 29ms/step - loss: 0.0286 - rse: 0.2175 - corr: 0.9661 - val_loss: 0.0485 - val_rse: 0.3620 - val_corr: 0.7750\n",
            "Epoch 43/200\n",
            "119/119 [==============================] - 3s 28ms/step - loss: 0.0287 - rse: 0.2174 - corr: 0.9669 - val_loss: 0.0493 - val_rse: 0.3755 - val_corr: 0.7699\n",
            "Epoch 44/200\n",
            "119/119 [==============================] - 3s 28ms/step - loss: 0.0285 - rse: 0.2156 - corr: 0.9671 - val_loss: 0.0533 - val_rse: 0.4065 - val_corr: 0.7442\n",
            "Epoch 45/200\n",
            "119/119 [==============================] - 4s 35ms/step - loss: 0.0281 - rse: 0.2138 - corr: 0.9683 - val_loss: 0.0546 - val_rse: 0.4027 - val_corr: 0.7621\n",
            "Epoch 46/200\n",
            "119/119 [==============================] - 8s 68ms/step - loss: 0.0279 - rse: 0.2107 - corr: 0.9692 - val_loss: 0.0526 - val_rse: 0.3970 - val_corr: 0.7644\n",
            "Epoch 47/200\n",
            "119/119 [==============================] - 5s 45ms/step - loss: 0.0272 - rse: 0.2059 - corr: 0.9698 - val_loss: 0.0476 - val_rse: 0.3622 - val_corr: 0.7728\n",
            "Epoch 48/200\n",
            "119/119 [==============================] - 5s 41ms/step - loss: 0.0269 - rse: 0.2038 - corr: 0.9710 - val_loss: 0.0543 - val_rse: 0.4092 - val_corr: 0.7605\n",
            "Epoch 49/200\n",
            "119/119 [==============================] - 5s 42ms/step - loss: 0.0274 - rse: 0.2067 - corr: 0.9709 - val_loss: 0.0570 - val_rse: 0.4394 - val_corr: 0.7345\n",
            "Epoch 50/200\n",
            "119/119 [==============================] - 4s 30ms/step - loss: 0.0267 - rse: 0.2016 - corr: 0.9717 - val_loss: 0.0535 - val_rse: 0.4127 - val_corr: 0.7575\n",
            "Epoch 51/200\n",
            "119/119 [==============================] - 4s 33ms/step - loss: 0.0265 - rse: 0.2005 - corr: 0.9722 - val_loss: 0.0516 - val_rse: 0.3950 - val_corr: 0.7678\n",
            "Epoch 52/200\n",
            "119/119 [==============================] - 4s 35ms/step - loss: 0.0261 - rse: 0.1972 - corr: 0.9734 - val_loss: 0.0499 - val_rse: 0.3772 - val_corr: 0.7794\n",
            "Epoch 53/200\n",
            "119/119 [==============================] - 4s 30ms/step - loss: 0.0258 - rse: 0.1951 - corr: 0.9731 - val_loss: 0.0510 - val_rse: 0.3855 - val_corr: 0.7753\n",
            "Epoch 54/200\n",
            "119/119 [==============================] - 5s 44ms/step - loss: 0.0256 - rse: 0.1936 - corr: 0.9741 - val_loss: 0.0500 - val_rse: 0.3789 - val_corr: 0.7754\n",
            "Epoch 55/200\n",
            "119/119 [==============================] - 4s 30ms/step - loss: 0.0258 - rse: 0.1946 - corr: 0.9741 - val_loss: 0.0529 - val_rse: 0.4006 - val_corr: 0.7592\n",
            "Epoch 56/200\n",
            "119/119 [==============================] - 4s 35ms/step - loss: 0.0251 - rse: 0.1899 - corr: 0.9750 - val_loss: 0.0516 - val_rse: 0.3908 - val_corr: 0.7644\n",
            "Epoch 57/200\n",
            "119/119 [==============================] - 5s 40ms/step - loss: 0.0252 - rse: 0.1902 - corr: 0.9755 - val_loss: 0.0520 - val_rse: 0.3985 - val_corr: 0.7611\n",
            "Epoch 58/200\n",
            "119/119 [==============================] - 4s 32ms/step - loss: 0.0251 - rse: 0.1892 - corr: 0.9758 - val_loss: 0.0518 - val_rse: 0.3960 - val_corr: 0.7621\n",
            "Epoch 59/200\n",
            "119/119 [==============================] - 4s 34ms/step - loss: 0.0246 - rse: 0.1860 - corr: 0.9761 - val_loss: 0.0522 - val_rse: 0.4047 - val_corr: 0.7598\n",
            "Epoch 60/200\n",
            "119/119 [==============================] - 3s 28ms/step - loss: 0.0245 - rse: 0.1855 - corr: 0.9767 - val_loss: 0.0510 - val_rse: 0.3971 - val_corr: 0.7542\n",
            "Epoch 61/200\n",
            "119/119 [==============================] - 3s 28ms/step - loss: 0.0243 - rse: 0.1835 - corr: 0.9772 - val_loss: 0.0537 - val_rse: 0.4011 - val_corr: 0.7707\n",
            "Epoch 62/200\n",
            "119/119 [==============================] - 3s 29ms/step - loss: 0.0241 - rse: 0.1827 - corr: 0.9774 - val_loss: 0.0510 - val_rse: 0.3850 - val_corr: 0.7770\n",
            "Epoch 63/200\n",
            "119/119 [==============================] - 3s 29ms/step - loss: 0.0244 - rse: 0.1836 - corr: 0.9774 - val_loss: 0.0531 - val_rse: 0.3975 - val_corr: 0.7659\n",
            "Epoch 64/200\n",
            "119/119 [==============================] - 4s 33ms/step - loss: 0.0237 - rse: 0.1797 - corr: 0.9779 - val_loss: 0.0530 - val_rse: 0.3949 - val_corr: 0.7684\n",
            "Epoch 65/200\n",
            "119/119 [==============================] - 4s 33ms/step - loss: 0.0236 - rse: 0.1786 - corr: 0.9782 - val_loss: 0.0516 - val_rse: 0.3872 - val_corr: 0.7716\n",
            "Epoch 66/200\n",
            "119/119 [==============================] - 3s 28ms/step - loss: 0.0236 - rse: 0.1782 - corr: 0.9785 - val_loss: 0.0510 - val_rse: 0.3844 - val_corr: 0.7717\n",
            "Epoch 67/200\n",
            "119/119 [==============================] - 5s 40ms/step - loss: 0.0233 - rse: 0.1762 - corr: 0.9788 - val_loss: 0.0513 - val_rse: 0.3823 - val_corr: 0.7718\n",
            "Epoch 68/200\n",
            "119/119 [==============================] - 5s 38ms/step - loss: 0.0234 - rse: 0.1766 - corr: 0.9791 - val_loss: 0.0542 - val_rse: 0.4055 - val_corr: 0.7575\n",
            "Epoch 69/200\n",
            "119/119 [==============================] - 5s 38ms/step - loss: 0.0232 - rse: 0.1754 - corr: 0.9796 - val_loss: 0.0584 - val_rse: 0.4157 - val_corr: 0.7599\n",
            "Epoch 70/200\n",
            "119/119 [==============================] - 3s 28ms/step - loss: 0.0232 - rse: 0.1751 - corr: 0.9795 - val_loss: 0.0523 - val_rse: 0.3898 - val_corr: 0.7672\n",
            "Epoch 71/200\n",
            "119/119 [==============================] - 3s 28ms/step - loss: 0.0228 - rse: 0.1724 - corr: 0.9799 - val_loss: 0.0524 - val_rse: 0.3914 - val_corr: 0.7677\n",
            "Epoch 72/200\n",
            "119/119 [==============================] - 3s 29ms/step - loss: 0.0227 - rse: 0.1714 - corr: 0.9801 - val_loss: 0.0507 - val_rse: 0.3737 - val_corr: 0.7817\n",
            "Epoch 73/200\n",
            "119/119 [==============================] - 3s 29ms/step - loss: 0.0231 - rse: 0.1741 - corr: 0.9802 - val_loss: 0.0524 - val_rse: 0.3919 - val_corr: 0.7677\n",
            "Epoch 74/200\n",
            "119/119 [==============================] - 3s 28ms/step - loss: 0.0221 - rse: 0.1680 - corr: 0.9810 - val_loss: 0.0548 - val_rse: 0.4021 - val_corr: 0.7663\n",
            "Epoch 75/200\n",
            "119/119 [==============================] - 3s 29ms/step - loss: 0.0226 - rse: 0.1704 - corr: 0.9806 - val_loss: 0.0529 - val_rse: 0.3877 - val_corr: 0.7705\n",
            "Epoch 76/200\n",
            "119/119 [==============================] - 3s 28ms/step - loss: 0.0222 - rse: 0.1684 - corr: 0.9809 - val_loss: 0.0497 - val_rse: 0.3741 - val_corr: 0.7718\n",
            "Epoch 77/200\n",
            "119/119 [==============================] - 3s 28ms/step - loss: 0.0226 - rse: 0.1706 - corr: 0.9812 - val_loss: 0.0554 - val_rse: 0.4000 - val_corr: 0.7720\n",
            "Epoch 78/200\n",
            "119/119 [==============================] - 3s 28ms/step - loss: 0.0223 - rse: 0.1682 - corr: 0.9812 - val_loss: 0.0544 - val_rse: 0.3966 - val_corr: 0.7750\n",
            "Epoch 79/200\n",
            "119/119 [==============================] - 4s 38ms/step - loss: 0.0222 - rse: 0.1680 - corr: 0.9813 - val_loss: 0.0512 - val_rse: 0.3817 - val_corr: 0.7771\n",
            "Epoch 80/200\n",
            "119/119 [==============================] - 3s 28ms/step - loss: 0.0218 - rse: 0.1657 - corr: 0.9817 - val_loss: 0.0511 - val_rse: 0.3861 - val_corr: 0.7727\n",
            "Epoch 81/200\n",
            "119/119 [==============================] - 3s 28ms/step - loss: 0.0219 - rse: 0.1659 - corr: 0.9818 - val_loss: 0.0510 - val_rse: 0.3760 - val_corr: 0.7779\n",
            "Epoch 82/200\n",
            "119/119 [==============================] - 3s 28ms/step - loss: 0.0214 - rse: 0.1624 - corr: 0.9821 - val_loss: 0.0523 - val_rse: 0.3873 - val_corr: 0.7746\n",
            "Epoch 83/200\n",
            "119/119 [==============================] - 4s 34ms/step - loss: 0.0218 - rse: 0.1646 - corr: 0.9820 - val_loss: 0.0545 - val_rse: 0.3932 - val_corr: 0.7732\n",
            "Epoch 84/200\n",
            "119/119 [==============================] - 6s 47ms/step - loss: 0.0213 - rse: 0.1617 - corr: 0.9823 - val_loss: 0.0499 - val_rse: 0.3720 - val_corr: 0.7736\n",
            "Epoch 85/200\n",
            "119/119 [==============================] - 3s 28ms/step - loss: 0.0213 - rse: 0.1616 - corr: 0.9826 - val_loss: 0.0534 - val_rse: 0.3889 - val_corr: 0.7753\n",
            "Epoch 86/200\n",
            "119/119 [==============================] - 5s 38ms/step - loss: 0.0213 - rse: 0.1617 - corr: 0.9827 - val_loss: 0.0510 - val_rse: 0.3806 - val_corr: 0.7754\n",
            "Epoch 87/200\n",
            "119/119 [==============================] - 5s 42ms/step - loss: 0.0214 - rse: 0.1623 - corr: 0.9829 - val_loss: 0.0527 - val_rse: 0.3850 - val_corr: 0.7773\n",
            "Epoch 88/200\n",
            "119/119 [==============================] - 4s 34ms/step - loss: 0.0209 - rse: 0.1587 - corr: 0.9829 - val_loss: 0.0505 - val_rse: 0.3778 - val_corr: 0.7739\n",
            "Epoch 89/200\n",
            "119/119 [==============================] - 4s 34ms/step - loss: 0.0212 - rse: 0.1605 - corr: 0.9833 - val_loss: 0.0508 - val_rse: 0.3767 - val_corr: 0.7803\n",
            "Epoch 90/200\n",
            "119/119 [==============================] - 4s 34ms/step - loss: 0.0211 - rse: 0.1595 - corr: 0.9834 - val_loss: 0.0531 - val_rse: 0.3877 - val_corr: 0.7801\n",
            "Epoch 91/200\n",
            "119/119 [==============================] - 4s 31ms/step - loss: 0.0210 - rse: 0.1590 - corr: 0.9835 - val_loss: 0.0501 - val_rse: 0.3734 - val_corr: 0.7816\n",
            "Epoch 92/200\n",
            "119/119 [==============================] - 3s 28ms/step - loss: 0.0208 - rse: 0.1579 - corr: 0.9837 - val_loss: 0.0506 - val_rse: 0.3754 - val_corr: 0.7810\n",
            "Epoch 93/200\n",
            "119/119 [==============================] - 4s 32ms/step - loss: 0.0208 - rse: 0.1578 - corr: 0.9835 - val_loss: 0.0527 - val_rse: 0.3818 - val_corr: 0.7838\n",
            "Epoch 94/200\n",
            "119/119 [==============================] - 4s 35ms/step - loss: 0.0204 - rse: 0.1551 - corr: 0.9839 - val_loss: 0.0528 - val_rse: 0.3863 - val_corr: 0.7741\n",
            "Epoch 95/200\n",
            "119/119 [==============================] - 3s 28ms/step - loss: 0.0208 - rse: 0.1572 - corr: 0.9839 - val_loss: 0.0533 - val_rse: 0.3866 - val_corr: 0.7857\n",
            "Epoch 96/200\n",
            "119/119 [==============================] - 3s 28ms/step - loss: 0.0212 - rse: 0.1602 - corr: 0.9838 - val_loss: 0.0531 - val_rse: 0.3858 - val_corr: 0.7719\n",
            "Epoch 97/200\n",
            "119/119 [==============================] - 3s 28ms/step - loss: 0.0202 - rse: 0.1539 - corr: 0.9842 - val_loss: 0.0522 - val_rse: 0.3814 - val_corr: 0.7839\n",
            "Epoch 98/200\n",
            "119/119 [==============================] - 3s 28ms/step - loss: 0.0211 - rse: 0.1588 - corr: 0.9841 - val_loss: 0.0542 - val_rse: 0.3942 - val_corr: 0.7703\n",
            "Epoch 99/200\n",
            "119/119 [==============================] - 3s 29ms/step - loss: 0.0205 - rse: 0.1556 - corr: 0.9841 - val_loss: 0.0513 - val_rse: 0.3761 - val_corr: 0.7792\n",
            "Epoch 100/200\n",
            "119/119 [==============================] - 3s 29ms/step - loss: 0.0207 - rse: 0.1564 - corr: 0.9845 - val_loss: 0.0517 - val_rse: 0.3799 - val_corr: 0.7808\n",
            "Epoch 101/200\n",
            "119/119 [==============================] - 3s 28ms/step - loss: 0.0205 - rse: 0.1550 - corr: 0.9845 - val_loss: 0.0548 - val_rse: 0.3955 - val_corr: 0.7679\n",
            "Epoch 102/200\n",
            "119/119 [==============================] - 3s 29ms/step - loss: 0.0201 - rse: 0.1529 - corr: 0.9846 - val_loss: 0.0509 - val_rse: 0.3757 - val_corr: 0.7848\n",
            "Epoch 103/200\n",
            "119/119 [==============================] - 3s 28ms/step - loss: 0.0200 - rse: 0.1530 - corr: 0.9849 - val_loss: 0.0509 - val_rse: 0.3758 - val_corr: 0.7793\n",
            "Epoch 104/200\n",
            "119/119 [==============================] - 4s 30ms/step - loss: 0.0205 - rse: 0.1551 - corr: 0.9848 - val_loss: 0.0524 - val_rse: 0.3807 - val_corr: 0.7815\n",
            "Epoch 105/200\n",
            "119/119 [==============================] - 4s 36ms/step - loss: 0.0203 - rse: 0.1534 - corr: 0.9847 - val_loss: 0.0551 - val_rse: 0.3985 - val_corr: 0.7740\n",
            "Epoch 106/200\n",
            "119/119 [==============================] - 3s 28ms/step - loss: 0.0202 - rse: 0.1535 - corr: 0.9849 - val_loss: 0.0507 - val_rse: 0.3717 - val_corr: 0.7802\n",
            "Epoch 107/200\n",
            "119/119 [==============================] - 3s 28ms/step - loss: 0.0203 - rse: 0.1538 - corr: 0.9851 - val_loss: 0.0563 - val_rse: 0.3992 - val_corr: 0.7833\n",
            "Epoch 108/200\n",
            "119/119 [==============================] - 3s 29ms/step - loss: 0.0200 - rse: 0.1519 - corr: 0.9852 - val_loss: 0.0527 - val_rse: 0.3822 - val_corr: 0.7858\n",
            "Epoch 109/200\n",
            "119/119 [==============================] - 3s 28ms/step - loss: 0.0202 - rse: 0.1529 - corr: 0.9851 - val_loss: 0.0551 - val_rse: 0.3965 - val_corr: 0.7774\n",
            "Epoch 110/200\n",
            "119/119 [==============================] - 3s 28ms/step - loss: 0.0198 - rse: 0.1504 - corr: 0.9855 - val_loss: 0.0517 - val_rse: 0.3791 - val_corr: 0.7804\n",
            "Epoch 111/200\n",
            "119/119 [==============================] - 4s 31ms/step - loss: 0.0197 - rse: 0.1496 - corr: 0.9855 - val_loss: 0.0512 - val_rse: 0.3765 - val_corr: 0.7809\n",
            "Epoch 112/200\n",
            "119/119 [==============================] - 3s 28ms/step - loss: 0.0196 - rse: 0.1490 - corr: 0.9855 - val_loss: 0.0518 - val_rse: 0.3790 - val_corr: 0.7833\n",
            "Epoch 113/200\n",
            "119/119 [==============================] - 3s 28ms/step - loss: 0.0196 - rse: 0.1493 - corr: 0.9857 - val_loss: 0.0539 - val_rse: 0.3881 - val_corr: 0.7836\n",
            "Epoch 114/200\n",
            "119/119 [==============================] - 4s 31ms/step - loss: 0.0199 - rse: 0.1514 - corr: 0.9854 - val_loss: 0.0541 - val_rse: 0.3878 - val_corr: 0.7819\n",
            "Epoch 115/200\n",
            "119/119 [==============================] - 4s 35ms/step - loss: 0.0195 - rse: 0.1483 - corr: 0.9859 - val_loss: 0.0490 - val_rse: 0.3655 - val_corr: 0.7795\n",
            "Epoch 116/200\n",
            "119/119 [==============================] - 3s 28ms/step - loss: 0.0194 - rse: 0.1479 - corr: 0.9858 - val_loss: 0.0514 - val_rse: 0.3779 - val_corr: 0.7848\n",
            "Epoch 117/200\n",
            "119/119 [==============================] - 3s 29ms/step - loss: 0.0195 - rse: 0.1489 - corr: 0.9860 - val_loss: 0.0539 - val_rse: 0.3854 - val_corr: 0.7855\n",
            "Epoch 118/200\n",
            "119/119 [==============================] - 4s 33ms/step - loss: 0.0199 - rse: 0.1503 - corr: 0.9859 - val_loss: 0.0525 - val_rse: 0.3810 - val_corr: 0.7886\n",
            "Epoch 119/200\n",
            "119/119 [==============================] - 3s 28ms/step - loss: 0.0198 - rse: 0.1499 - corr: 0.9858 - val_loss: 0.0525 - val_rse: 0.3788 - val_corr: 0.7859\n",
            "Epoch 120/200\n",
            "119/119 [==============================] - 3s 28ms/step - loss: 0.0198 - rse: 0.1502 - corr: 0.9860 - val_loss: 0.0503 - val_rse: 0.3706 - val_corr: 0.7856\n",
            "Epoch 121/200\n",
            "119/119 [==============================] - 3s 29ms/step - loss: 0.0197 - rse: 0.1496 - corr: 0.9859 - val_loss: 0.0492 - val_rse: 0.3615 - val_corr: 0.7904\n",
            "Epoch 122/200\n",
            "119/119 [==============================] - 3s 29ms/step - loss: 0.0197 - rse: 0.1489 - corr: 0.9861 - val_loss: 0.0505 - val_rse: 0.3698 - val_corr: 0.7880\n",
            "Epoch 123/200\n",
            "119/119 [==============================] - 4s 31ms/step - loss: 0.0197 - rse: 0.1498 - corr: 0.9862 - val_loss: 0.0520 - val_rse: 0.3773 - val_corr: 0.7841\n",
            "Epoch 124/200\n",
            "119/119 [==============================] - 4s 36ms/step - loss: 0.0194 - rse: 0.1472 - corr: 0.9863 - val_loss: 0.0518 - val_rse: 0.3766 - val_corr: 0.7812\n",
            "Epoch 125/200\n",
            "119/119 [==============================] - 3s 29ms/step - loss: 0.0193 - rse: 0.1470 - corr: 0.9864 - val_loss: 0.0520 - val_rse: 0.3760 - val_corr: 0.7903\n",
            "Epoch 126/200\n",
            "119/119 [==============================] - 3s 29ms/step - loss: 0.0189 - rse: 0.1444 - corr: 0.9864 - val_loss: 0.0521 - val_rse: 0.3761 - val_corr: 0.7891\n",
            "Epoch 127/200\n",
            "119/119 [==============================] - 3s 29ms/step - loss: 0.0192 - rse: 0.1458 - corr: 0.9866 - val_loss: 0.0515 - val_rse: 0.3722 - val_corr: 0.7868\n",
            "Epoch 128/200\n",
            "119/119 [==============================] - 3s 28ms/step - loss: 0.0199 - rse: 0.1504 - corr: 0.9864 - val_loss: 0.0506 - val_rse: 0.3720 - val_corr: 0.7844\n",
            "Epoch 129/200\n",
            "119/119 [==============================] - 3s 28ms/step - loss: 0.0193 - rse: 0.1465 - corr: 0.9866 - val_loss: 0.0551 - val_rse: 0.3964 - val_corr: 0.7738\n",
            "Epoch 130/200\n",
            "119/119 [==============================] - 3s 28ms/step - loss: 0.0195 - rse: 0.1480 - corr: 0.9864 - val_loss: 0.0525 - val_rse: 0.3761 - val_corr: 0.7939\n",
            "Epoch 131/200\n",
            "119/119 [==============================] - 4s 37ms/step - loss: 0.0188 - rse: 0.1435 - corr: 0.9867 - val_loss: 0.0544 - val_rse: 0.3853 - val_corr: 0.7916\n",
            "Epoch 132/200\n",
            "119/119 [==============================] - 3s 28ms/step - loss: 0.0192 - rse: 0.1456 - corr: 0.9867 - val_loss: 0.0491 - val_rse: 0.3596 - val_corr: 0.7941\n",
            "Epoch 133/200\n",
            "119/119 [==============================] - 3s 28ms/step - loss: 0.0190 - rse: 0.1446 - corr: 0.9867 - val_loss: 0.0515 - val_rse: 0.3710 - val_corr: 0.7921\n",
            "Epoch 134/200\n",
            "119/119 [==============================] - 3s 29ms/step - loss: 0.0195 - rse: 0.1476 - corr: 0.9866 - val_loss: 0.0520 - val_rse: 0.3736 - val_corr: 0.7886\n",
            "Epoch 135/200\n",
            "119/119 [==============================] - 3s 28ms/step - loss: 0.0191 - rse: 0.1453 - corr: 0.9868 - val_loss: 0.0545 - val_rse: 0.3927 - val_corr: 0.7801\n",
            "Epoch 136/200\n",
            "119/119 [==============================] - 3s 28ms/step - loss: 0.0187 - rse: 0.1428 - corr: 0.9871 - val_loss: 0.0532 - val_rse: 0.3810 - val_corr: 0.7906\n",
            "Epoch 137/200\n",
            "119/119 [==============================] - 4s 30ms/step - loss: 0.0187 - rse: 0.1424 - corr: 0.9869 - val_loss: 0.0509 - val_rse: 0.3741 - val_corr: 0.7767\n",
            "Epoch 138/200\n",
            "119/119 [==============================] - 3s 28ms/step - loss: 0.0190 - rse: 0.1446 - corr: 0.9871 - val_loss: 0.0531 - val_rse: 0.3814 - val_corr: 0.7872\n",
            "Epoch 139/200\n",
            "119/119 [==============================] - 3s 28ms/step - loss: 0.0186 - rse: 0.1424 - corr: 0.9872 - val_loss: 0.0521 - val_rse: 0.3773 - val_corr: 0.7884\n",
            "Epoch 140/200\n",
            "119/119 [==============================] - 3s 28ms/step - loss: 0.0186 - rse: 0.1425 - corr: 0.9872 - val_loss: 0.0524 - val_rse: 0.3801 - val_corr: 0.7904\n",
            "Epoch 141/200\n",
            "119/119 [==============================] - 3s 28ms/step - loss: 0.0188 - rse: 0.1427 - corr: 0.9873 - val_loss: 0.0516 - val_rse: 0.3732 - val_corr: 0.7907\n",
            "Epoch 142/200\n",
            "119/119 [==============================] - 4s 37ms/step - loss: 0.0189 - rse: 0.1436 - corr: 0.9873 - val_loss: 0.0488 - val_rse: 0.3611 - val_corr: 0.7909\n",
            "Epoch 143/200\n",
            "119/119 [==============================] - 3s 29ms/step - loss: 0.0186 - rse: 0.1418 - corr: 0.9873 - val_loss: 0.0523 - val_rse: 0.3781 - val_corr: 0.7851\n",
            "Epoch 144/200\n",
            "119/119 [==============================] - 3s 28ms/step - loss: 0.0184 - rse: 0.1404 - corr: 0.9875 - val_loss: 0.0516 - val_rse: 0.3757 - val_corr: 0.7906\n",
            "Epoch 145/200\n",
            "119/119 [==============================] - 3s 28ms/step - loss: 0.0188 - rse: 0.1433 - corr: 0.9874 - val_loss: 0.0531 - val_rse: 0.3808 - val_corr: 0.7896\n",
            "Epoch 146/200\n",
            "119/119 [==============================] - 3s 29ms/step - loss: 0.0190 - rse: 0.1440 - corr: 0.9873 - val_loss: 0.0526 - val_rse: 0.3811 - val_corr: 0.7772\n",
            "Epoch 147/200\n",
            "119/119 [==============================] - 3s 28ms/step - loss: 0.0187 - rse: 0.1423 - corr: 0.9875 - val_loss: 0.0522 - val_rse: 0.3806 - val_corr: 0.7820\n",
            "Epoch 148/200\n",
            "119/119 [==============================] - 3s 28ms/step - loss: 0.0191 - rse: 0.1448 - corr: 0.9872 - val_loss: 0.0525 - val_rse: 0.3797 - val_corr: 0.7876\n",
            "Epoch 149/200\n",
            "119/119 [==============================] - 3s 28ms/step - loss: 0.0186 - rse: 0.1422 - corr: 0.9877 - val_loss: 0.0537 - val_rse: 0.3844 - val_corr: 0.7871\n",
            "Epoch 150/200\n",
            "119/119 [==============================] - 3s 28ms/step - loss: 0.0187 - rse: 0.1420 - corr: 0.9875 - val_loss: 0.0537 - val_rse: 0.3840 - val_corr: 0.7885\n",
            "Epoch 151/200\n",
            "119/119 [==============================] - 3s 28ms/step - loss: 0.0182 - rse: 0.1388 - corr: 0.9878 - val_loss: 0.0520 - val_rse: 0.3763 - val_corr: 0.7873\n",
            "Epoch 152/200\n",
            "119/119 [==============================] - 5s 38ms/step - loss: 0.0186 - rse: 0.1418 - corr: 0.9876 - val_loss: 0.0517 - val_rse: 0.3772 - val_corr: 0.7867\n",
            "Epoch 153/200\n",
            "119/119 [==============================] - 3s 28ms/step - loss: 0.0187 - rse: 0.1423 - corr: 0.9877 - val_loss: 0.0551 - val_rse: 0.3931 - val_corr: 0.7834\n",
            "Epoch 154/200\n",
            "119/119 [==============================] - 3s 28ms/step - loss: 0.0187 - rse: 0.1425 - corr: 0.9876 - val_loss: 0.0531 - val_rse: 0.3794 - val_corr: 0.7897\n",
            "Epoch 155/200\n",
            "119/119 [==============================] - 3s 29ms/step - loss: 0.0188 - rse: 0.1435 - corr: 0.9877 - val_loss: 0.0537 - val_rse: 0.3835 - val_corr: 0.7863\n",
            "Epoch 156/200\n",
            "119/119 [==============================] - 3s 29ms/step - loss: 0.0187 - rse: 0.1420 - corr: 0.9877 - val_loss: 0.0574 - val_rse: 0.4006 - val_corr: 0.7873\n",
            "Epoch 157/200\n",
            "119/119 [==============================] - 3s 29ms/step - loss: 0.0184 - rse: 0.1409 - corr: 0.9878 - val_loss: 0.0543 - val_rse: 0.3899 - val_corr: 0.7827\n",
            "Epoch 158/200\n",
            "119/119 [==============================] - 3s 28ms/step - loss: 0.0186 - rse: 0.1417 - corr: 0.9878 - val_loss: 0.0549 - val_rse: 0.3936 - val_corr: 0.7824\n",
            "Epoch 159/200\n",
            "119/119 [==============================] - 3s 29ms/step - loss: 0.0182 - rse: 0.1396 - corr: 0.9878 - val_loss: 0.0561 - val_rse: 0.3966 - val_corr: 0.7863\n",
            "Epoch 160/200\n",
            "119/119 [==============================] - 3s 28ms/step - loss: 0.0182 - rse: 0.1394 - corr: 0.9879 - val_loss: 0.0547 - val_rse: 0.3909 - val_corr: 0.7841\n",
            "Epoch 161/200\n",
            "119/119 [==============================] - 4s 35ms/step - loss: 0.0182 - rse: 0.1396 - corr: 0.9878 - val_loss: 0.0527 - val_rse: 0.3827 - val_corr: 0.7860\n",
            "Epoch 162/200\n",
            "119/119 [==============================] - 4s 32ms/step - loss: 0.0182 - rse: 0.1391 - corr: 0.9881 - val_loss: 0.0543 - val_rse: 0.3881 - val_corr: 0.7812\n",
            "Epoch 163/200\n",
            "119/119 [==============================] - 3s 28ms/step - loss: 0.0187 - rse: 0.1426 - corr: 0.9879 - val_loss: 0.0549 - val_rse: 0.3918 - val_corr: 0.7830\n",
            "Epoch 164/200\n",
            "119/119 [==============================] - 3s 28ms/step - loss: 0.0182 - rse: 0.1392 - corr: 0.9880 - val_loss: 0.0543 - val_rse: 0.3863 - val_corr: 0.7887\n",
            "Epoch 165/200\n",
            "119/119 [==============================] - 3s 29ms/step - loss: 0.0181 - rse: 0.1387 - corr: 0.9881 - val_loss: 0.0528 - val_rse: 0.3842 - val_corr: 0.7846\n",
            "Epoch 166/200\n",
            "119/119 [==============================] - 3s 28ms/step - loss: 0.0181 - rse: 0.1385 - corr: 0.9882 - val_loss: 0.0522 - val_rse: 0.3786 - val_corr: 0.7889\n",
            "Epoch 167/200\n",
            "119/119 [==============================] - 3s 28ms/step - loss: 0.0183 - rse: 0.1398 - corr: 0.9880 - val_loss: 0.0537 - val_rse: 0.3868 - val_corr: 0.7791\n",
            "Epoch 168/200\n",
            "119/119 [==============================] - 4s 36ms/step - loss: 0.0182 - rse: 0.1392 - corr: 0.9881 - val_loss: 0.0520 - val_rse: 0.3766 - val_corr: 0.7856\n",
            "Epoch 169/200\n",
            "119/119 [==============================] - 4s 30ms/step - loss: 0.0185 - rse: 0.1406 - corr: 0.9881 - val_loss: 0.0572 - val_rse: 0.4016 - val_corr: 0.7842\n",
            "Epoch 170/200\n",
            "119/119 [==============================] - 3s 28ms/step - loss: 0.0180 - rse: 0.1377 - corr: 0.9881 - val_loss: 0.0558 - val_rse: 0.3958 - val_corr: 0.7796\n",
            "Epoch 171/200\n",
            "119/119 [==============================] - 3s 29ms/step - loss: 0.0182 - rse: 0.1392 - corr: 0.9880 - val_loss: 0.0518 - val_rse: 0.3785 - val_corr: 0.7839\n",
            "Epoch 172/200\n",
            "119/119 [==============================] - 3s 29ms/step - loss: 0.0182 - rse: 0.1391 - corr: 0.9882 - val_loss: 0.0534 - val_rse: 0.3830 - val_corr: 0.7853\n",
            "Epoch 173/200\n",
            "119/119 [==============================] - 3s 29ms/step - loss: 0.0187 - rse: 0.1415 - corr: 0.9882 - val_loss: 0.0550 - val_rse: 0.3929 - val_corr: 0.7822\n",
            "Epoch 174/200\n",
            "119/119 [==============================] - 3s 28ms/step - loss: 0.0187 - rse: 0.1430 - corr: 0.9882 - val_loss: 0.0525 - val_rse: 0.3812 - val_corr: 0.7893\n",
            "Epoch 175/200\n",
            "119/119 [==============================] - 3s 28ms/step - loss: 0.0181 - rse: 0.1383 - corr: 0.9882 - val_loss: 0.0523 - val_rse: 0.3775 - val_corr: 0.7853\n",
            "Epoch 176/200\n",
            "119/119 [==============================] - 3s 28ms/step - loss: 0.0180 - rse: 0.1375 - corr: 0.9884 - val_loss: 0.0545 - val_rse: 0.3941 - val_corr: 0.7755\n",
            "Epoch 177/200\n",
            "119/119 [==============================] - 4s 30ms/step - loss: 0.0182 - rse: 0.1395 - corr: 0.9883 - val_loss: 0.0546 - val_rse: 0.3871 - val_corr: 0.7898\n",
            "Epoch 178/200\n",
            "119/119 [==============================] - 3s 29ms/step - loss: 0.0182 - rse: 0.1392 - corr: 0.9883 - val_loss: 0.0558 - val_rse: 0.3938 - val_corr: 0.7940\n",
            "Epoch 179/200\n",
            "119/119 [==============================] - 4s 35ms/step - loss: 0.0183 - rse: 0.1393 - corr: 0.9883 - val_loss: 0.0531 - val_rse: 0.3830 - val_corr: 0.7838\n",
            "Epoch 180/200\n",
            "119/119 [==============================] - 4s 33ms/step - loss: 0.0183 - rse: 0.1396 - corr: 0.9884 - val_loss: 0.0547 - val_rse: 0.3884 - val_corr: 0.7886\n",
            "Epoch 181/200\n",
            "119/119 [==============================] - 3s 29ms/step - loss: 0.0183 - rse: 0.1394 - corr: 0.9883 - val_loss: 0.0519 - val_rse: 0.3765 - val_corr: 0.7923\n",
            "Epoch 182/200\n",
            "119/119 [==============================] - 3s 29ms/step - loss: 0.0180 - rse: 0.1379 - corr: 0.9885 - val_loss: 0.0564 - val_rse: 0.3995 - val_corr: 0.7876\n",
            "Epoch 183/200\n",
            "119/119 [==============================] - 3s 28ms/step - loss: 0.0180 - rse: 0.1376 - corr: 0.9885 - val_loss: 0.0509 - val_rse: 0.3709 - val_corr: 0.7911\n",
            "Epoch 184/200\n",
            "119/119 [==============================] - 4s 29ms/step - loss: 0.0184 - rse: 0.1406 - corr: 0.9884 - val_loss: 0.0520 - val_rse: 0.3755 - val_corr: 0.7833\n",
            "Epoch 185/200\n",
            "119/119 [==============================] - 3s 28ms/step - loss: 0.0184 - rse: 0.1404 - corr: 0.9884 - val_loss: 0.0530 - val_rse: 0.3842 - val_corr: 0.7806\n",
            "Epoch 186/200\n",
            "119/119 [==============================] - 3s 29ms/step - loss: 0.0178 - rse: 0.1368 - corr: 0.9886 - val_loss: 0.0580 - val_rse: 0.4062 - val_corr: 0.7824\n",
            "Epoch 187/200\n",
            "119/119 [==============================] - 4s 29ms/step - loss: 0.0186 - rse: 0.1412 - corr: 0.9885 - val_loss: 0.0513 - val_rse: 0.3725 - val_corr: 0.7891\n",
            "Epoch 188/200\n",
            "119/119 [==============================] - 4s 32ms/step - loss: 0.0183 - rse: 0.1400 - corr: 0.9884 - val_loss: 0.0539 - val_rse: 0.3917 - val_corr: 0.7747\n",
            "Epoch 189/200\n",
            "119/119 [==============================] - 4s 36ms/step - loss: 0.0181 - rse: 0.1380 - corr: 0.9886 - val_loss: 0.0536 - val_rse: 0.3834 - val_corr: 0.7863\n",
            "Epoch 190/200\n",
            "119/119 [==============================] - 3s 28ms/step - loss: 0.0183 - rse: 0.1391 - corr: 0.9886 - val_loss: 0.0551 - val_rse: 0.3916 - val_corr: 0.7848\n",
            "Epoch 191/200\n",
            "119/119 [==============================] - 3s 29ms/step - loss: 0.0180 - rse: 0.1374 - corr: 0.9886 - val_loss: 0.0515 - val_rse: 0.3715 - val_corr: 0.7952\n",
            "Epoch 192/200\n",
            "119/119 [==============================] - 3s 28ms/step - loss: 0.0185 - rse: 0.1404 - corr: 0.9887 - val_loss: 0.0536 - val_rse: 0.3845 - val_corr: 0.7847\n",
            "Epoch 193/200\n",
            "119/119 [==============================] - 3s 28ms/step - loss: 0.0178 - rse: 0.1367 - corr: 0.9886 - val_loss: 0.0569 - val_rse: 0.4017 - val_corr: 0.7772\n",
            "Epoch 194/200\n",
            "119/119 [==============================] - 3s 28ms/step - loss: 0.0176 - rse: 0.1357 - corr: 0.9886 - val_loss: 0.0530 - val_rse: 0.3833 - val_corr: 0.7874\n",
            "Epoch 195/200\n",
            "119/119 [==============================] - 3s 29ms/step - loss: 0.0182 - rse: 0.1388 - corr: 0.9885 - val_loss: 0.0550 - val_rse: 0.3924 - val_corr: 0.7845\n",
            "Epoch 196/200\n",
            "119/119 [==============================] - 3s 29ms/step - loss: 0.0179 - rse: 0.1372 - corr: 0.9887 - val_loss: 0.0552 - val_rse: 0.3914 - val_corr: 0.7855\n",
            "Epoch 197/200\n",
            "119/119 [==============================] - 3s 28ms/step - loss: 0.0173 - rse: 0.1334 - corr: 0.9888 - val_loss: 0.0539 - val_rse: 0.3844 - val_corr: 0.7842\n",
            "Epoch 198/200\n",
            "119/119 [==============================] - 4s 35ms/step - loss: 0.0176 - rse: 0.1353 - corr: 0.9888 - val_loss: 0.0551 - val_rse: 0.3948 - val_corr: 0.7807\n",
            "Epoch 199/200\n",
            "119/119 [==============================] - 4s 32ms/step - loss: 0.0179 - rse: 0.1371 - corr: 0.9888 - val_loss: 0.0546 - val_rse: 0.3925 - val_corr: 0.7851\n",
            "Epoch 200/200\n",
            "119/119 [==============================] - 3s 29ms/step - loss: 0.0177 - rse: 0.1359 - corr: 0.9887 - val_loss: 0.0562 - val_rse: 0.4009 - val_corr: 0.7802\n"
          ]
        },
        {
          "output_type": "execute_result",
          "data": {
            "text/plain": [
              "<keras.callbacks.History at 0x7fa4d07f7b80>"
            ]
          },
          "metadata": {},
          "execution_count": 18
        }
      ]
    },
    {
      "cell_type": "code",
      "source": [
        "ls '/content/drive/MyDrive/DLS_project/BASELINE LSTM '"
      ],
      "metadata": {
        "id": "6WfMzU2NjpLJ"
      },
      "execution_count": 22,
      "outputs": []
    },
    {
      "cell_type": "code",
      "source": [
        "folder_path = '/content/drive/MyDrive/DLS_project/BASELINE LSTM /'"
      ],
      "metadata": {
        "id": "SmSxVAF8jYk9"
      },
      "execution_count": 23,
      "outputs": []
    },
    {
      "cell_type": "code",
      "source": [
        "baseline.save(folder_path + \"/paris_mobility.h5\")"
      ],
      "metadata": {
        "id": "ON94lidpjBK8"
      },
      "execution_count": 24,
      "outputs": []
    },
    {
      "cell_type": "code",
      "source": [
        "train_predictions = baseline.predict(Data.train[0])"
      ],
      "metadata": {
        "colab": {
          "base_uri": "https://localhost:8080/"
        },
        "id": "AfcTHfvgf-3y",
        "outputId": "048c808a-36f7-4e49-b50c-b8bc508993ff"
      },
      "execution_count": 25,
      "outputs": [
        {
          "output_type": "stream",
          "name": "stdout",
          "text": [
            "60/60 [==============================] - 2s 12ms/step\n"
          ]
        }
      ]
    },
    {
      "cell_type": "code",
      "source": [
        "predictions = []\n",
        "for i in range(train_predictions.shape[0]):\n",
        "    predictions.append(train_predictions[i,-1,:])\n",
        "predictions = np.vstack(predictions)\n",
        "predictions.shape"
      ],
      "metadata": {
        "colab": {
          "base_uri": "https://localhost:8080/"
        },
        "id": "jokP_6ouirUo",
        "outputId": "8ceda6a1-eba8-4166-9870-862dd28a60ef"
      },
      "execution_count": 26,
      "outputs": [
        {
          "output_type": "execute_result",
          "data": {
            "text/plain": [
              "(1894, 6)"
            ]
          },
          "metadata": {},
          "execution_count": 26
        }
      ]
    },
    {
      "cell_type": "code",
      "source": [
        "scaled_predictions = np.zeros(predictions.shape)\n",
        "for i in range(predictions.shape[1]):\n",
        "  scaled_predictions[:, i] = predictions[:, i] * Data.scale[i]"
      ],
      "metadata": {
        "id": "CIOsbnVVl5hj"
      },
      "execution_count": 27,
      "outputs": []
    },
    {
      "cell_type": "code",
      "source": [
        "import matplotlib.pyplot as plt\n",
        "from matplotlib.ticker import MaxNLocator\n",
        "plt.style.use('ggplot')\n",
        "#plt.style.use('seaborn-ticks')\n",
        "#plt.style.use('seaborn-notebook')\n",
        "plt.rcParams['lines.linewidth']=3\n",
        "plt.rcParams['xtick.labelsize']=12\n",
        "plt.rcParams['ytick.labelsize']=12\n",
        "plt.rcParams['axes.labelsize']=14\n",
        "\n",
        "import seaborn as sns\n",
        "sns.set(rc={'figure.figsize':(11.7,8.27)})\n",
        "colors = sns.color_palette(\"colorblind\")"
      ],
      "metadata": {
        "id": "WdS8Xcbyrjbc"
      },
      "execution_count": 28,
      "outputs": []
    },
    {
      "cell_type": "code",
      "source": [
        "sns.lineplot(data=scaled_predictions[24:324,1:2], dashes=True, palette=colors[0:1])\n",
        "sns.lineplot(data=data[0:300,1:2], linestyle='--',  palette=colors[1:2])"
      ],
      "metadata": {
        "colab": {
          "base_uri": "https://localhost:8080/",
          "height": 517
        },
        "id": "m3VuuvwPrtno",
        "outputId": "2371d280-1324-4fbe-b888-532c4778630c"
      },
      "execution_count": 29,
      "outputs": [
        {
          "output_type": "execute_result",
          "data": {
            "text/plain": [
              "<matplotlib.axes._subplots.AxesSubplot at 0x7fa471247820>"
            ]
          },
          "metadata": {},
          "execution_count": 29
        },
        {
          "output_type": "display_data",
          "data": {
            "text/plain": [
              "<Figure size 842.4x595.44 with 1 Axes>"
            ],
            "image/png": "[encoded data removed]"
          },
          "metadata": {}
        }
      ]
    },
    {
      "cell_type": "code",
      "source": [],
      "metadata": {
        "id": "IfzgBZZzlskx"
      },
      "execution_count": 29,
      "outputs": []
    }
  ]
}